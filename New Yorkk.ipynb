{
 "cells": [
  {
   "cell_type": "code",
   "execution_count": 1,
   "id": "baba670a",
   "metadata": {},
   "outputs": [],
   "source": [
    "#importing the libraries which will be used later\n",
    "import pandas as pd\n",
    "import numpy as np;\n",
    "import matplotlib.pyplot as plt\n",
    "import seaborn as sns\n",
    "from datetime import date, time\n",
    "from datetime import datetime as dt"
   ]
  },
  {
   "cell_type": "code",
   "execution_count": 2,
   "id": "26974086",
   "metadata": {},
   "outputs": [],
   "source": [
    "#Getting the turnstile data from MTA\n",
    "\n",
    "df1 = pd.read_csv(\"http://web.mta.info/developers/data/nyct/turnstile/turnstile_220507.txt\")\n",
    "\n",
    "df2 = pd.read_csv(\"http://web.mta.info/developers/data/nyct/turnstile/turnstile_220514.txt\")\n",
    "\n",
    "df3 = pd.read_csv(\"http://web.mta.info/developers/data/nyct/turnstile/turnstile_220521.txt\")\n",
    "\n",
    "df4 = pd.read_csv(\"http://web.mta.info/developers/data/nyct/turnstile/turnstile_220528.txt\")\n",
    "\n",
    "df5 = pd.read_csv(\"http://web.mta.info/developers/data/nyct/turnstile/turnstile_220604.txt\")"
   ]
  },
  {
   "cell_type": "code",
   "execution_count": 3,
   "id": "99b4645b",
   "metadata": {},
   "outputs": [],
   "source": [
    "#After importing weekly data, we have to convert into one table so we use pd.concat function\n",
    "\n",
    "dfmay = pd.concat([df1,df2, df3, df4, df5], ignore_index=True) "
   ]
  },
  {
   "cell_type": "code",
   "execution_count": 4,
   "id": "964bfa5d",
   "metadata": {},
   "outputs": [
    {
     "name": "stdout",
     "output_type": "stream",
     "text": [
      "<class 'pandas.core.frame.DataFrame'>\n",
      "RangeIndex: 1055980 entries, 0 to 1055979\n",
      "Data columns (total 11 columns):\n",
      " #   Column                                                                Non-Null Count    Dtype \n",
      "---  ------                                                                --------------    ----- \n",
      " 0   C/A                                                                   1055980 non-null  object\n",
      " 1   UNIT                                                                  1055980 non-null  object\n",
      " 2   SCP                                                                   1055980 non-null  object\n",
      " 3   STATION                                                               1055980 non-null  object\n",
      " 4   LINENAME                                                              1055980 non-null  object\n",
      " 5   DIVISION                                                              1055980 non-null  object\n",
      " 6   DATE                                                                  1055980 non-null  object\n",
      " 7   TIME                                                                  1055980 non-null  object\n",
      " 8   DESC                                                                  1055980 non-null  object\n",
      " 9   ENTRIES                                                               1055980 non-null  int64 \n",
      " 10  EXITS                                                                 1055980 non-null  int64 \n",
      "dtypes: int64(2), object(9)\n",
      "memory usage: 88.6+ MB\n"
     ]
    }
   ],
   "source": [
    "#Checking for null values as well as the Data types\n",
    "\n",
    "dfmay.info()"
   ]
  },
  {
   "cell_type": "code",
   "execution_count": 6,
   "id": "406f4bc9",
   "metadata": {},
   "outputs": [],
   "source": [
    "#Since we have 2 different columns as Date and Time, we are merging them into one datetime column \n",
    "#Using *datetime* library\n",
    "\n",
    "datettimes = pd.to_datetime(dfmay[\"DATE\"] + \" \" + dfmay[\"TIME\"])\n",
    "\n",
    "#inserting the datetime column into the dataframe\n",
    "\n",
    "dfmay.insert(loc = 11,column = \"datetime\", value = datettimes )"
   ]
  },
  {
   "cell_type": "code",
   "execution_count": 7,
   "id": "61ae386e",
   "metadata": {},
   "outputs": [],
   "source": [
    "#we have 3 different columns regarding the turnstiles so we merge them as well\n",
    "\n",
    "turnstiles = dfmay[\"C/A\"] + dfmay[\"UNIT\"] + dfmay[\"SCP\"]"
   ]
  },
  {
   "cell_type": "code",
   "execution_count": 8,
   "id": "9c587c91",
   "metadata": {},
   "outputs": [],
   "source": [
    "#inserting the turnstiles column into our dataframe\n",
    "\n",
    "dfmay.insert(loc = 12,column = \"turnstile\", value = turnstiles )"
   ]
  },
  {
   "cell_type": "code",
   "execution_count": 9,
   "id": "602288a0",
   "metadata": {},
   "outputs": [],
   "source": [
    "#Dropping irrelevant data from the datafram in order to enhance the efficiency\n",
    "\n",
    "dfmay.drop(columns = [\"C/A\", \"UNIT\", \"SCP\", \"DATE\", \"DIVISION\", \"DESC\", \"LINENAME\"], inplace = True)"
   ]
  },
  {
   "cell_type": "code",
   "execution_count": 10,
   "id": "a23901f1",
   "metadata": {},
   "outputs": [],
   "source": [
    "#checking the dataframe\n",
    "\n",
    "dfmay.columns = dfmay.columns.str.strip()"
   ]
  },
  {
   "cell_type": "code",
   "execution_count": 11,
   "id": "aa6a21be",
   "metadata": {
    "scrolled": true
   },
   "outputs": [
    {
     "data": {
      "text/html": [
       "<div>\n",
       "<style scoped>\n",
       "    .dataframe tbody tr th:only-of-type {\n",
       "        vertical-align: middle;\n",
       "    }\n",
       "\n",
       "    .dataframe tbody tr th {\n",
       "        vertical-align: top;\n",
       "    }\n",
       "\n",
       "    .dataframe thead th {\n",
       "        text-align: right;\n",
       "    }\n",
       "</style>\n",
       "<table border=\"1\" class=\"dataframe\">\n",
       "  <thead>\n",
       "    <tr style=\"text-align: right;\">\n",
       "      <th></th>\n",
       "      <th>STATION</th>\n",
       "      <th>TIME</th>\n",
       "      <th>ENTRIES</th>\n",
       "      <th>EXITS</th>\n",
       "      <th>datetime</th>\n",
       "      <th>turnstile</th>\n",
       "    </tr>\n",
       "  </thead>\n",
       "  <tbody>\n",
       "    <tr>\n",
       "      <th>0</th>\n",
       "      <td>59 ST</td>\n",
       "      <td>00:00:00</td>\n",
       "      <td>7706010</td>\n",
       "      <td>2698804</td>\n",
       "      <td>2022-04-30 00:00:00</td>\n",
       "      <td>A002R05102-00-00</td>\n",
       "    </tr>\n",
       "    <tr>\n",
       "      <th>1</th>\n",
       "      <td>59 ST</td>\n",
       "      <td>04:00:00</td>\n",
       "      <td>7706014</td>\n",
       "      <td>2698808</td>\n",
       "      <td>2022-04-30 04:00:00</td>\n",
       "      <td>A002R05102-00-00</td>\n",
       "    </tr>\n",
       "    <tr>\n",
       "      <th>2</th>\n",
       "      <td>59 ST</td>\n",
       "      <td>08:00:00</td>\n",
       "      <td>7706017</td>\n",
       "      <td>2698835</td>\n",
       "      <td>2022-04-30 08:00:00</td>\n",
       "      <td>A002R05102-00-00</td>\n",
       "    </tr>\n",
       "    <tr>\n",
       "      <th>3</th>\n",
       "      <td>59 ST</td>\n",
       "      <td>12:00:00</td>\n",
       "      <td>7706038</td>\n",
       "      <td>2698924</td>\n",
       "      <td>2022-04-30 12:00:00</td>\n",
       "      <td>A002R05102-00-00</td>\n",
       "    </tr>\n",
       "    <tr>\n",
       "      <th>4</th>\n",
       "      <td>59 ST</td>\n",
       "      <td>16:00:00</td>\n",
       "      <td>7706084</td>\n",
       "      <td>2698963</td>\n",
       "      <td>2022-04-30 16:00:00</td>\n",
       "      <td>A002R05102-00-00</td>\n",
       "    </tr>\n",
       "  </tbody>\n",
       "</table>\n",
       "</div>"
      ],
      "text/plain": [
       "  STATION      TIME  ENTRIES    EXITS            datetime         turnstile\n",
       "0   59 ST  00:00:00  7706010  2698804 2022-04-30 00:00:00  A002R05102-00-00\n",
       "1   59 ST  04:00:00  7706014  2698808 2022-04-30 04:00:00  A002R05102-00-00\n",
       "2   59 ST  08:00:00  7706017  2698835 2022-04-30 08:00:00  A002R05102-00-00\n",
       "3   59 ST  12:00:00  7706038  2698924 2022-04-30 12:00:00  A002R05102-00-00\n",
       "4   59 ST  16:00:00  7706084  2698963 2022-04-30 16:00:00  A002R05102-00-00"
      ]
     },
     "execution_count": 11,
     "metadata": {},
     "output_type": "execute_result"
    }
   ],
   "source": [
    "#again check for the datatypes since we have made some modifications regarding the dataframe\n",
    "\n",
    "dfmay.head()"
   ]
  },
  {
   "cell_type": "code",
   "execution_count": 12,
   "id": "9c08d858",
   "metadata": {
    "scrolled": true
   },
   "outputs": [
    {
     "data": {
      "text/html": [
       "<div>\n",
       "<style scoped>\n",
       "    .dataframe tbody tr th:only-of-type {\n",
       "        vertical-align: middle;\n",
       "    }\n",
       "\n",
       "    .dataframe tbody tr th {\n",
       "        vertical-align: top;\n",
       "    }\n",
       "\n",
       "    .dataframe thead th {\n",
       "        text-align: right;\n",
       "    }\n",
       "</style>\n",
       "<table border=\"1\" class=\"dataframe\">\n",
       "  <thead>\n",
       "    <tr style=\"text-align: right;\">\n",
       "      <th></th>\n",
       "      <th>ENTRIES</th>\n",
       "      <th>EXITS</th>\n",
       "    </tr>\n",
       "  </thead>\n",
       "  <tbody>\n",
       "    <tr>\n",
       "      <th>count</th>\n",
       "      <td>1.055980e+06</td>\n",
       "      <td>1.055980e+06</td>\n",
       "    </tr>\n",
       "    <tr>\n",
       "      <th>mean</th>\n",
       "      <td>4.325649e+07</td>\n",
       "      <td>3.486197e+07</td>\n",
       "    </tr>\n",
       "    <tr>\n",
       "      <th>std</th>\n",
       "      <td>2.243058e+08</td>\n",
       "      <td>1.981461e+08</td>\n",
       "    </tr>\n",
       "    <tr>\n",
       "      <th>min</th>\n",
       "      <td>0.000000e+00</td>\n",
       "      <td>0.000000e+00</td>\n",
       "    </tr>\n",
       "    <tr>\n",
       "      <th>25%</th>\n",
       "      <td>2.507975e+05</td>\n",
       "      <td>1.338108e+05</td>\n",
       "    </tr>\n",
       "    <tr>\n",
       "      <th>50%</th>\n",
       "      <td>1.352306e+06</td>\n",
       "      <td>8.910680e+05</td>\n",
       "    </tr>\n",
       "    <tr>\n",
       "      <th>75%</th>\n",
       "      <td>5.956190e+06</td>\n",
       "      <td>3.973416e+06</td>\n",
       "    </tr>\n",
       "    <tr>\n",
       "      <th>max</th>\n",
       "      <td>2.147296e+09</td>\n",
       "      <td>2.122326e+09</td>\n",
       "    </tr>\n",
       "  </tbody>\n",
       "</table>\n",
       "</div>"
      ],
      "text/plain": [
       "            ENTRIES         EXITS\n",
       "count  1.055980e+06  1.055980e+06\n",
       "mean   4.325649e+07  3.486197e+07\n",
       "std    2.243058e+08  1.981461e+08\n",
       "min    0.000000e+00  0.000000e+00\n",
       "25%    2.507975e+05  1.338108e+05\n",
       "50%    1.352306e+06  8.910680e+05\n",
       "75%    5.956190e+06  3.973416e+06\n",
       "max    2.147296e+09  2.122326e+09"
      ]
     },
     "execution_count": 12,
     "metadata": {},
     "output_type": "execute_result"
    }
   ],
   "source": [
    "dfmay.describe()"
   ]
  },
  {
   "cell_type": "code",
   "execution_count": 13,
   "id": "548ad86b",
   "metadata": {},
   "outputs": [],
   "source": [
    "#since the turnstile data increases cumulatively we have to take the difference between the rows by grouping them by stations\n",
    "\n",
    "dfmay['net_entry']= dfmay.sort_values(['turnstile','datetime'],ascending = (False, True)).groupby(['turnstile'])['ENTRIES'].diff()\n",
    "dfmay['net_exits']= dfmay.sort_values(['turnstile','datetime'],ascending = (False, True)).groupby(['turnstile'])['EXITS'].diff()"
   ]
  },
  {
   "cell_type": "code",
   "execution_count": 14,
   "id": "32f7ef28",
   "metadata": {},
   "outputs": [
    {
     "data": {
      "text/html": [
       "<div>\n",
       "<style scoped>\n",
       "    .dataframe tbody tr th:only-of-type {\n",
       "        vertical-align: middle;\n",
       "    }\n",
       "\n",
       "    .dataframe tbody tr th {\n",
       "        vertical-align: top;\n",
       "    }\n",
       "\n",
       "    .dataframe thead th {\n",
       "        text-align: right;\n",
       "    }\n",
       "</style>\n",
       "<table border=\"1\" class=\"dataframe\">\n",
       "  <thead>\n",
       "    <tr style=\"text-align: right;\">\n",
       "      <th></th>\n",
       "      <th>ENTRIES</th>\n",
       "      <th>EXITS</th>\n",
       "      <th>net_entry</th>\n",
       "      <th>net_exits</th>\n",
       "    </tr>\n",
       "  </thead>\n",
       "  <tbody>\n",
       "    <tr>\n",
       "      <th>count</th>\n",
       "      <td>1.055980e+06</td>\n",
       "      <td>1.055980e+06</td>\n",
       "      <td>1.050933e+06</td>\n",
       "      <td>1.050933e+06</td>\n",
       "    </tr>\n",
       "    <tr>\n",
       "      <th>mean</th>\n",
       "      <td>4.325649e+07</td>\n",
       "      <td>3.486197e+07</td>\n",
       "      <td>-7.436687e+02</td>\n",
       "      <td>-2.042623e+03</td>\n",
       "    </tr>\n",
       "    <tr>\n",
       "      <th>std</th>\n",
       "      <td>2.243058e+08</td>\n",
       "      <td>1.981461e+08</td>\n",
       "      <td>4.221974e+05</td>\n",
       "      <td>2.043506e+06</td>\n",
       "    </tr>\n",
       "    <tr>\n",
       "      <th>min</th>\n",
       "      <td>0.000000e+00</td>\n",
       "      <td>0.000000e+00</td>\n",
       "      <td>-3.070229e+08</td>\n",
       "      <td>-2.061816e+09</td>\n",
       "    </tr>\n",
       "    <tr>\n",
       "      <th>25%</th>\n",
       "      <td>2.507975e+05</td>\n",
       "      <td>1.338108e+05</td>\n",
       "      <td>4.000000e+00</td>\n",
       "      <td>6.000000e+00</td>\n",
       "    </tr>\n",
       "    <tr>\n",
       "      <th>50%</th>\n",
       "      <td>1.352306e+06</td>\n",
       "      <td>8.910680e+05</td>\n",
       "      <td>2.800000e+01</td>\n",
       "      <td>3.800000e+01</td>\n",
       "    </tr>\n",
       "    <tr>\n",
       "      <th>75%</th>\n",
       "      <td>5.956190e+06</td>\n",
       "      <td>3.973416e+06</td>\n",
       "      <td>9.500000e+01</td>\n",
       "      <td>1.170000e+02</td>\n",
       "    </tr>\n",
       "    <tr>\n",
       "      <th>max</th>\n",
       "      <td>2.147296e+09</td>\n",
       "      <td>2.122326e+09</td>\n",
       "      <td>5.539190e+05</td>\n",
       "      <td>2.516514e+08</td>\n",
       "    </tr>\n",
       "  </tbody>\n",
       "</table>\n",
       "</div>"
      ],
      "text/plain": [
       "            ENTRIES         EXITS     net_entry     net_exits\n",
       "count  1.055980e+06  1.055980e+06  1.050933e+06  1.050933e+06\n",
       "mean   4.325649e+07  3.486197e+07 -7.436687e+02 -2.042623e+03\n",
       "std    2.243058e+08  1.981461e+08  4.221974e+05  2.043506e+06\n",
       "min    0.000000e+00  0.000000e+00 -3.070229e+08 -2.061816e+09\n",
       "25%    2.507975e+05  1.338108e+05  4.000000e+00  6.000000e+00\n",
       "50%    1.352306e+06  8.910680e+05  2.800000e+01  3.800000e+01\n",
       "75%    5.956190e+06  3.973416e+06  9.500000e+01  1.170000e+02\n",
       "max    2.147296e+09  2.122326e+09  5.539190e+05  2.516514e+08"
      ]
     },
     "execution_count": 14,
     "metadata": {},
     "output_type": "execute_result"
    }
   ],
   "source": [
    "dfmay.describe()"
   ]
  },
  {
   "cell_type": "code",
   "execution_count": 15,
   "id": "3cd7c249",
   "metadata": {},
   "outputs": [
    {
     "data": {
      "text/html": [
       "<div>\n",
       "<style scoped>\n",
       "    .dataframe tbody tr th:only-of-type {\n",
       "        vertical-align: middle;\n",
       "    }\n",
       "\n",
       "    .dataframe tbody tr th {\n",
       "        vertical-align: top;\n",
       "    }\n",
       "\n",
       "    .dataframe thead th {\n",
       "        text-align: right;\n",
       "    }\n",
       "</style>\n",
       "<table border=\"1\" class=\"dataframe\">\n",
       "  <thead>\n",
       "    <tr style=\"text-align: right;\">\n",
       "      <th></th>\n",
       "      <th>STATION</th>\n",
       "      <th>TIME</th>\n",
       "      <th>ENTRIES</th>\n",
       "      <th>EXITS</th>\n",
       "      <th>datetime</th>\n",
       "      <th>turnstile</th>\n",
       "      <th>net_entry</th>\n",
       "      <th>net_exits</th>\n",
       "    </tr>\n",
       "  </thead>\n",
       "  <tbody>\n",
       "    <tr>\n",
       "      <th>1622</th>\n",
       "      <td>57 ST-7 AV</td>\n",
       "      <td>04:00:00</td>\n",
       "      <td>885492370</td>\n",
       "      <td>489192756</td>\n",
       "      <td>2022-04-30 04:00:00</td>\n",
       "      <td>A011R08001-03-00</td>\n",
       "      <td>-27.0</td>\n",
       "      <td>-18.0</td>\n",
       "    </tr>\n",
       "    <tr>\n",
       "      <th>1623</th>\n",
       "      <td>57 ST-7 AV</td>\n",
       "      <td>08:00:00</td>\n",
       "      <td>885492363</td>\n",
       "      <td>489192657</td>\n",
       "      <td>2022-04-30 08:00:00</td>\n",
       "      <td>A011R08001-03-00</td>\n",
       "      <td>-7.0</td>\n",
       "      <td>-99.0</td>\n",
       "    </tr>\n",
       "    <tr>\n",
       "      <th>1624</th>\n",
       "      <td>57 ST-7 AV</td>\n",
       "      <td>12:00:00</td>\n",
       "      <td>885492328</td>\n",
       "      <td>489192443</td>\n",
       "      <td>2022-04-30 12:00:00</td>\n",
       "      <td>A011R08001-03-00</td>\n",
       "      <td>-35.0</td>\n",
       "      <td>-214.0</td>\n",
       "    </tr>\n",
       "    <tr>\n",
       "      <th>1625</th>\n",
       "      <td>57 ST-7 AV</td>\n",
       "      <td>16:00:00</td>\n",
       "      <td>885492271</td>\n",
       "      <td>489192050</td>\n",
       "      <td>2022-04-30 16:00:00</td>\n",
       "      <td>A011R08001-03-00</td>\n",
       "      <td>-57.0</td>\n",
       "      <td>-393.0</td>\n",
       "    </tr>\n",
       "    <tr>\n",
       "      <th>1626</th>\n",
       "      <td>57 ST-7 AV</td>\n",
       "      <td>20:00:00</td>\n",
       "      <td>885492180</td>\n",
       "      <td>489191726</td>\n",
       "      <td>2022-04-30 20:00:00</td>\n",
       "      <td>A011R08001-03-00</td>\n",
       "      <td>-91.0</td>\n",
       "      <td>-324.0</td>\n",
       "    </tr>\n",
       "    <tr>\n",
       "      <th>...</th>\n",
       "      <td>...</td>\n",
       "      <td>...</td>\n",
       "      <td>...</td>\n",
       "      <td>...</td>\n",
       "      <td>...</td>\n",
       "      <td>...</td>\n",
       "      <td>...</td>\n",
       "      <td>...</td>\n",
       "    </tr>\n",
       "    <tr>\n",
       "      <th>1054223</th>\n",
       "      <td>EASTCHSTER/DYRE</td>\n",
       "      <td>05:00:00</td>\n",
       "      <td>1559756746</td>\n",
       "      <td>1728282683</td>\n",
       "      <td>2022-06-03 05:00:00</td>\n",
       "      <td>R730R43100-00-04</td>\n",
       "      <td>-1.0</td>\n",
       "      <td>1.0</td>\n",
       "    </tr>\n",
       "    <tr>\n",
       "      <th>1054224</th>\n",
       "      <td>EASTCHSTER/DYRE</td>\n",
       "      <td>09:00:00</td>\n",
       "      <td>1559756611</td>\n",
       "      <td>1728282711</td>\n",
       "      <td>2022-06-03 09:00:00</td>\n",
       "      <td>R730R43100-00-04</td>\n",
       "      <td>-135.0</td>\n",
       "      <td>28.0</td>\n",
       "    </tr>\n",
       "    <tr>\n",
       "      <th>1054225</th>\n",
       "      <td>EASTCHSTER/DYRE</td>\n",
       "      <td>13:00:00</td>\n",
       "      <td>1559756587</td>\n",
       "      <td>1728282722</td>\n",
       "      <td>2022-06-03 13:00:00</td>\n",
       "      <td>R730R43100-00-04</td>\n",
       "      <td>-24.0</td>\n",
       "      <td>11.0</td>\n",
       "    </tr>\n",
       "    <tr>\n",
       "      <th>1054226</th>\n",
       "      <td>EASTCHSTER/DYRE</td>\n",
       "      <td>17:00:00</td>\n",
       "      <td>1559756550</td>\n",
       "      <td>1728282768</td>\n",
       "      <td>2022-06-03 17:00:00</td>\n",
       "      <td>R730R43100-00-04</td>\n",
       "      <td>-37.0</td>\n",
       "      <td>46.0</td>\n",
       "    </tr>\n",
       "    <tr>\n",
       "      <th>1054227</th>\n",
       "      <td>EASTCHSTER/DYRE</td>\n",
       "      <td>21:00:00</td>\n",
       "      <td>1559756524</td>\n",
       "      <td>1728282823</td>\n",
       "      <td>2022-06-03 21:00:00</td>\n",
       "      <td>R730R43100-00-04</td>\n",
       "      <td>-26.0</td>\n",
       "      <td>55.0</td>\n",
       "    </tr>\n",
       "  </tbody>\n",
       "</table>\n",
       "<p>10743 rows × 8 columns</p>\n",
       "</div>"
      ],
      "text/plain": [
       "                 STATION      TIME     ENTRIES       EXITS  \\\n",
       "1622          57 ST-7 AV  04:00:00   885492370   489192756   \n",
       "1623          57 ST-7 AV  08:00:00   885492363   489192657   \n",
       "1624          57 ST-7 AV  12:00:00   885492328   489192443   \n",
       "1625          57 ST-7 AV  16:00:00   885492271   489192050   \n",
       "1626          57 ST-7 AV  20:00:00   885492180   489191726   \n",
       "...                  ...       ...         ...         ...   \n",
       "1054223  EASTCHSTER/DYRE  05:00:00  1559756746  1728282683   \n",
       "1054224  EASTCHSTER/DYRE  09:00:00  1559756611  1728282711   \n",
       "1054225  EASTCHSTER/DYRE  13:00:00  1559756587  1728282722   \n",
       "1054226  EASTCHSTER/DYRE  17:00:00  1559756550  1728282768   \n",
       "1054227  EASTCHSTER/DYRE  21:00:00  1559756524  1728282823   \n",
       "\n",
       "                   datetime         turnstile  net_entry  net_exits  \n",
       "1622    2022-04-30 04:00:00  A011R08001-03-00      -27.0      -18.0  \n",
       "1623    2022-04-30 08:00:00  A011R08001-03-00       -7.0      -99.0  \n",
       "1624    2022-04-30 12:00:00  A011R08001-03-00      -35.0     -214.0  \n",
       "1625    2022-04-30 16:00:00  A011R08001-03-00      -57.0     -393.0  \n",
       "1626    2022-04-30 20:00:00  A011R08001-03-00      -91.0     -324.0  \n",
       "...                     ...               ...        ...        ...  \n",
       "1054223 2022-06-03 05:00:00  R730R43100-00-04       -1.0        1.0  \n",
       "1054224 2022-06-03 09:00:00  R730R43100-00-04     -135.0       28.0  \n",
       "1054225 2022-06-03 13:00:00  R730R43100-00-04      -24.0       11.0  \n",
       "1054226 2022-06-03 17:00:00  R730R43100-00-04      -37.0       46.0  \n",
       "1054227 2022-06-03 21:00:00  R730R43100-00-04      -26.0       55.0  \n",
       "\n",
       "[10743 rows x 8 columns]"
      ]
     },
     "execution_count": 15,
     "metadata": {},
     "output_type": "execute_result"
    }
   ],
   "source": [
    "dfmay[dfmay[\"net_entry\"] < 0]"
   ]
  },
  {
   "cell_type": "code",
   "execution_count": 16,
   "id": "8c92953a",
   "metadata": {},
   "outputs": [],
   "source": [
    "dfmay.net_entry = dfmay.net_entry.fillna(0)\n",
    "dfmay.net_exits = dfmay.net_exits.fillna(0)"
   ]
  },
  {
   "cell_type": "code",
   "execution_count": 17,
   "id": "d9923905",
   "metadata": {},
   "outputs": [],
   "source": [
    "dfmay.net_entry = dfmay.net_entry.astype(np.int64)\n",
    "dfmay.net_exits = dfmay.net_exits.astype(np.int64)"
   ]
  },
  {
   "cell_type": "code",
   "execution_count": 18,
   "id": "45013f7e",
   "metadata": {
    "scrolled": false
   },
   "outputs": [
    {
     "data": {
      "image/png": "[encoded data removed]",
      "text/plain": [
       "<Figure size 1152x648 with 1 Axes>"
      ]
     },
     "metadata": {
      "needs_background": "light"
     },
     "output_type": "display_data"
    }
   ],
   "source": [
    "plt.figure(figsize=[16,9])\n",
    "plt.boxplot(dfmay.net_entry);"
   ]
  },
  {
   "cell_type": "code",
   "execution_count": 19,
   "id": "5d5fa023",
   "metadata": {},
   "outputs": [
    {
     "data": {
      "text/plain": [
       "<AxesSubplot:xlabel='net_exits'>"
      ]
     },
     "execution_count": 19,
     "metadata": {},
     "output_type": "execute_result"
    },
    {
     "data": {
      "image/png": "[encoded data removed]",
      "text/plain": [
       "<Figure size 1152x648 with 1 Axes>"
      ]
     },
     "metadata": {
      "needs_background": "light"
     },
     "output_type": "display_data"
    }
   ],
   "source": [
    "plt.figure(figsize=[16,9])\n",
    "sns.boxplot(x = dfmay.net_exits)"
   ]
  },
  {
   "cell_type": "code",
   "execution_count": 20,
   "id": "ac4c130f",
   "metadata": {},
   "outputs": [
    {
     "data": {
      "text/plain": [
       "STATION      125\n",
       "TIME         125\n",
       "ENTRIES      125\n",
       "EXITS        125\n",
       "datetime     125\n",
       "turnstile    125\n",
       "net_entry    125\n",
       "net_exits    125\n",
       "dtype: int64"
      ]
     },
     "execution_count": 20,
     "metadata": {},
     "output_type": "execute_result"
    }
   ],
   "source": [
    "dfmay[dfmay[\"net_entry\"] < -1000].count()"
   ]
  },
  {
   "cell_type": "code",
   "execution_count": 21,
   "id": "f1c37a10",
   "metadata": {},
   "outputs": [],
   "source": [
    "def extract_whiskers(data, iqr_multiplier=1.5):\n",
    "    median_value = np.median(data) # Median\n",
    "    upper_quartile = np.percentile(data, 90) # 90%\n",
    "    lower_quartile = np.percentile(data, 25) # 25% \n",
    "\n",
    "    iqr = upper_quartile - lower_quartile #Interquartile Range\n",
    "    \n",
    "    print(\"Upper Whisker:\", data[data<=upper_quartile+(iqr_multiplier*iqr)].max()) \n",
    "    print(\"Lower Whisker:\", data[data>=lower_quartile-(iqr_multiplier*iqr)].min())"
   ]
  },
  {
   "cell_type": "code",
   "execution_count": 22,
   "id": "a6665151",
   "metadata": {},
   "outputs": [
    {
     "name": "stdout",
     "output_type": "stream",
     "text": [
      "Upper Whisker: 479\n",
      "Lower Whisker: -281\n",
      "Upper Whisker: 616\n",
      "Lower Whisker: -360\n"
     ]
    }
   ],
   "source": [
    "extract_whiskers(dfmay.net_entry)\n",
    "extract_whiskers(dfmay.net_exits)"
   ]
  },
  {
   "cell_type": "code",
   "execution_count": 23,
   "id": "4959ea7f",
   "metadata": {},
   "outputs": [],
   "source": [
    "dfnew = dfmay[(dfmay[\"net_entry\"] < 479) & (dfmay[\"net_entry\"] > -281) & (dfmay[\"net_exits\"] < 616) & (dfmay[\"net_exits\"] > -360)]"
   ]
  },
  {
   "cell_type": "code",
   "execution_count": 24,
   "id": "7954cb54",
   "metadata": {},
   "outputs": [
    {
     "data": {
      "text/html": [
       "<div>\n",
       "<style scoped>\n",
       "    .dataframe tbody tr th:only-of-type {\n",
       "        vertical-align: middle;\n",
       "    }\n",
       "\n",
       "    .dataframe tbody tr th {\n",
       "        vertical-align: top;\n",
       "    }\n",
       "\n",
       "    .dataframe thead th {\n",
       "        text-align: right;\n",
       "    }\n",
       "</style>\n",
       "<table border=\"1\" class=\"dataframe\">\n",
       "  <thead>\n",
       "    <tr style=\"text-align: right;\">\n",
       "      <th></th>\n",
       "      <th>ENTRIES</th>\n",
       "      <th>EXITS</th>\n",
       "      <th>net_entry</th>\n",
       "      <th>net_exits</th>\n",
       "    </tr>\n",
       "  </thead>\n",
       "  <tbody>\n",
       "    <tr>\n",
       "      <th>count</th>\n",
       "      <td>1.030845e+06</td>\n",
       "      <td>1.030845e+06</td>\n",
       "      <td>1.030845e+06</td>\n",
       "      <td>1.030845e+06</td>\n",
       "    </tr>\n",
       "    <tr>\n",
       "      <th>mean</th>\n",
       "      <td>4.183696e+07</td>\n",
       "      <td>3.326359e+07</td>\n",
       "      <td>6.268960e+01</td>\n",
       "      <td>7.999810e+01</td>\n",
       "    </tr>\n",
       "    <tr>\n",
       "      <th>std</th>\n",
       "      <td>2.196222e+08</td>\n",
       "      <td>1.919182e+08</td>\n",
       "      <td>8.740297e+01</td>\n",
       "      <td>1.105581e+02</td>\n",
       "    </tr>\n",
       "    <tr>\n",
       "      <th>min</th>\n",
       "      <td>0.000000e+00</td>\n",
       "      <td>0.000000e+00</td>\n",
       "      <td>-2.800000e+02</td>\n",
       "      <td>-3.590000e+02</td>\n",
       "    </tr>\n",
       "    <tr>\n",
       "      <th>25%</th>\n",
       "      <td>2.433070e+05</td>\n",
       "      <td>1.285620e+05</td>\n",
       "      <td>4.000000e+00</td>\n",
       "      <td>6.000000e+00</td>\n",
       "    </tr>\n",
       "    <tr>\n",
       "      <th>50%</th>\n",
       "      <td>1.325458e+06</td>\n",
       "      <td>8.602790e+05</td>\n",
       "      <td>2.600000e+01</td>\n",
       "      <td>3.600000e+01</td>\n",
       "    </tr>\n",
       "    <tr>\n",
       "      <th>75%</th>\n",
       "      <td>5.868975e+06</td>\n",
       "      <td>3.841967e+06</td>\n",
       "      <td>9.000000e+01</td>\n",
       "      <td>1.090000e+02</td>\n",
       "    </tr>\n",
       "    <tr>\n",
       "      <th>max</th>\n",
       "      <td>2.147296e+09</td>\n",
       "      <td>2.122326e+09</td>\n",
       "      <td>4.780000e+02</td>\n",
       "      <td>6.150000e+02</td>\n",
       "    </tr>\n",
       "  </tbody>\n",
       "</table>\n",
       "</div>"
      ],
      "text/plain": [
       "            ENTRIES         EXITS     net_entry     net_exits\n",
       "count  1.030845e+06  1.030845e+06  1.030845e+06  1.030845e+06\n",
       "mean   4.183696e+07  3.326359e+07  6.268960e+01  7.999810e+01\n",
       "std    2.196222e+08  1.919182e+08  8.740297e+01  1.105581e+02\n",
       "min    0.000000e+00  0.000000e+00 -2.800000e+02 -3.590000e+02\n",
       "25%    2.433070e+05  1.285620e+05  4.000000e+00  6.000000e+00\n",
       "50%    1.325458e+06  8.602790e+05  2.600000e+01  3.600000e+01\n",
       "75%    5.868975e+06  3.841967e+06  9.000000e+01  1.090000e+02\n",
       "max    2.147296e+09  2.122326e+09  4.780000e+02  6.150000e+02"
      ]
     },
     "execution_count": 24,
     "metadata": {},
     "output_type": "execute_result"
    }
   ],
   "source": [
    "dfnew.describe()"
   ]
  },
  {
   "cell_type": "code",
   "execution_count": 25,
   "id": "b78e2317",
   "metadata": {
    "scrolled": false
   },
   "outputs": [
    {
     "data": {
      "image/png": "[encoded data removed]",
      "text/plain": [
       "<Figure size 1152x648 with 1 Axes>"
      ]
     },
     "metadata": {
      "needs_background": "light"
     },
     "output_type": "display_data"
    }
   ],
   "source": [
    "plt.figure(figsize=[16,9])\n",
    "sns.boxplot(x = dfnew.net_entry);"
   ]
  },
  {
   "cell_type": "code",
   "execution_count": 26,
   "id": "93656c1e",
   "metadata": {},
   "outputs": [
    {
     "data": {
      "image/png": "[encoded data removed]",
      "text/plain": [
       "<Figure size 1152x648 with 1 Axes>"
      ]
     },
     "metadata": {
      "needs_background": "light"
     },
     "output_type": "display_data"
    }
   ],
   "source": [
    "plt.figure(figsize=[16,9])\n",
    "sns.boxplot(x = dfnew.net_exits);"
   ]
  },
  {
   "cell_type": "code",
   "execution_count": 27,
   "id": "3c2b431c",
   "metadata": {
    "scrolled": true
   },
   "outputs": [
    {
     "name": "stderr",
     "output_type": "stream",
     "text": [
      "C:\\Users\\yakup\\AppData\\Local\\Temp/ipykernel_1592/269348285.py:1: FutureWarning: DataFrame.mean and DataFrame.median with numeric_only=None will include datetime64 and datetime64tz columns in a future version.\n",
      "  dfnew[(dfnew[\"net_entry\"] < 0) & (dfnew[\"TIME\"] == \"04:00:00\")].mean()\n",
      "C:\\Users\\yakup\\AppData\\Local\\Temp/ipykernel_1592/269348285.py:1: FutureWarning: Dropping of nuisance columns in DataFrame reductions (with 'numeric_only=None') is deprecated; in a future version this will raise TypeError.  Select only valid columns before calling the reduction.\n",
      "  dfnew[(dfnew[\"net_entry\"] < 0) & (dfnew[\"TIME\"] == \"04:00:00\")].mean()\n"
     ]
    },
    {
     "data": {
      "text/plain": [
       "ENTRIES      1.137365e+09\n",
       "EXITS        1.034459e+09\n",
       "net_entry   -1.257991e+01\n",
       "net_exits    5.664147e+00\n",
       "dtype: float64"
      ]
     },
     "execution_count": 27,
     "metadata": {},
     "output_type": "execute_result"
    }
   ],
   "source": [
    "dfnew[(dfnew[\"net_entry\"] < 0) & (dfnew[\"TIME\"] == \"04:00:00\")].mean()"
   ]
  },
  {
   "cell_type": "code",
   "execution_count": 28,
   "id": "20354a19",
   "metadata": {},
   "outputs": [
    {
     "name": "stderr",
     "output_type": "stream",
     "text": [
      "C:\\Users\\yakup\\AppData\\Local\\Temp/ipykernel_1592/1381645299.py:1: FutureWarning: DataFrame.mean and DataFrame.median with numeric_only=None will include datetime64 and datetime64tz columns in a future version.\n",
      "  dfnew[(dfnew[\"TIME\"] == \"04:00:00\") & (dfnew[\"net_entry\"] > 0)].mean()\n",
      "C:\\Users\\yakup\\AppData\\Local\\Temp/ipykernel_1592/1381645299.py:1: FutureWarning: Dropping of nuisance columns in DataFrame reductions (with 'numeric_only=None') is deprecated; in a future version this will raise TypeError.  Select only valid columns before calling the reduction.\n",
      "  dfnew[(dfnew[\"TIME\"] == \"04:00:00\") & (dfnew[\"net_entry\"] > 0)].mean()\n"
     ]
    },
    {
     "data": {
      "text/plain": [
       "ENTRIES      3.676624e+07\n",
       "EXITS        3.119871e+07\n",
       "net_entry    9.738757e+00\n",
       "net_exits    2.219433e+01\n",
       "dtype: float64"
      ]
     },
     "execution_count": 28,
     "metadata": {},
     "output_type": "execute_result"
    }
   ],
   "source": [
    "dfnew[(dfnew[\"TIME\"] == \"04:00:00\") & (dfnew[\"net_entry\"] > 0)].mean()"
   ]
  },
  {
   "cell_type": "code",
   "execution_count": 29,
   "id": "222e8713",
   "metadata": {
    "scrolled": true
   },
   "outputs": [
    {
     "name": "stderr",
     "output_type": "stream",
     "text": [
      "C:\\Users\\yakup\\AppData\\Local\\Temp/ipykernel_1592/2121543308.py:1: FutureWarning: DataFrame.mean and DataFrame.median with numeric_only=None will include datetime64 and datetime64tz columns in a future version.\n",
      "  dfnew[(dfnew[\"net_exits\"] < 0) & (dfnew[\"TIME\"] == \"04:00:00\")].mean()\n",
      "C:\\Users\\yakup\\AppData\\Local\\Temp/ipykernel_1592/2121543308.py:1: FutureWarning: Dropping of nuisance columns in DataFrame reductions (with 'numeric_only=None') is deprecated; in a future version this will raise TypeError.  Select only valid columns before calling the reduction.\n",
      "  dfnew[(dfnew[\"net_exits\"] < 0) & (dfnew[\"TIME\"] == \"04:00:00\")].mean()\n"
     ]
    },
    {
     "data": {
      "text/plain": [
       "ENTRIES      1.108925e+09\n",
       "EXITS        1.102163e+09\n",
       "net_entry   -6.815436e+00\n",
       "net_exits   -2.442114e+01\n",
       "dtype: float64"
      ]
     },
     "execution_count": 29,
     "metadata": {},
     "output_type": "execute_result"
    }
   ],
   "source": [
    "dfnew[(dfnew[\"net_exits\"] < 0) & (dfnew[\"TIME\"] == \"04:00:00\")].mean()"
   ]
  },
  {
   "cell_type": "code",
   "execution_count": 30,
   "id": "9c855f87",
   "metadata": {},
   "outputs": [
    {
     "name": "stderr",
     "output_type": "stream",
     "text": [
      "C:\\Users\\yakup\\AppData\\Local\\Temp/ipykernel_1592/2211699767.py:1: FutureWarning: DataFrame.mean and DataFrame.median with numeric_only=None will include datetime64 and datetime64tz columns in a future version.\n",
      "  dfnew[(dfnew[\"net_exits\"] > 0) & (dfnew[\"TIME\"] == \"04:00:00\")].mean()\n",
      "C:\\Users\\yakup\\AppData\\Local\\Temp/ipykernel_1592/2211699767.py:1: FutureWarning: Dropping of nuisance columns in DataFrame reductions (with 'numeric_only=None') is deprecated; in a future version this will raise TypeError.  Select only valid columns before calling the reduction.\n",
      "  dfnew[(dfnew[\"net_exits\"] > 0) & (dfnew[\"TIME\"] == \"04:00:00\")].mean()\n"
     ]
    },
    {
     "data": {
      "text/plain": [
       "ENTRIES      4.094244e+07\n",
       "EXITS        3.363581e+07\n",
       "net_entry    8.866129e+00\n",
       "net_exits    2.206672e+01\n",
       "dtype: float64"
      ]
     },
     "execution_count": 30,
     "metadata": {},
     "output_type": "execute_result"
    }
   ],
   "source": [
    "dfnew[(dfnew[\"net_exits\"] > 0) & (dfnew[\"TIME\"] == \"04:00:00\")].mean()"
   ]
  },
  {
   "cell_type": "markdown",
   "id": "2d8d40ee",
   "metadata": {
    "collapsed": true
   },
   "source": [
    "dfnew.net_entry = dfnew.net_entry.abs()"
   ]
  },
  {
   "cell_type": "markdown",
   "id": "9c7da039",
   "metadata": {
    "scrolled": true
   },
   "source": [
    "dfnew.net_exits = dfnew.net_exits.abs()"
   ]
  },
  {
   "cell_type": "code",
   "execution_count": 31,
   "id": "c977e625",
   "metadata": {},
   "outputs": [
    {
     "data": {
      "text/html": [
       "<div>\n",
       "<style scoped>\n",
       "    .dataframe tbody tr th:only-of-type {\n",
       "        vertical-align: middle;\n",
       "    }\n",
       "\n",
       "    .dataframe tbody tr th {\n",
       "        vertical-align: top;\n",
       "    }\n",
       "\n",
       "    .dataframe thead th {\n",
       "        text-align: right;\n",
       "    }\n",
       "</style>\n",
       "<table border=\"1\" class=\"dataframe\">\n",
       "  <thead>\n",
       "    <tr style=\"text-align: right;\">\n",
       "      <th></th>\n",
       "      <th>STATION</th>\n",
       "      <th>TIME</th>\n",
       "      <th>ENTRIES</th>\n",
       "      <th>EXITS</th>\n",
       "      <th>datetime</th>\n",
       "      <th>turnstile</th>\n",
       "      <th>net_entry</th>\n",
       "      <th>net_exits</th>\n",
       "    </tr>\n",
       "  </thead>\n",
       "  <tbody>\n",
       "    <tr>\n",
       "      <th>0</th>\n",
       "      <td>59 ST</td>\n",
       "      <td>00:00:00</td>\n",
       "      <td>7706010</td>\n",
       "      <td>2698804</td>\n",
       "      <td>2022-04-30 00:00:00</td>\n",
       "      <td>A002R05102-00-00</td>\n",
       "      <td>0</td>\n",
       "      <td>0</td>\n",
       "    </tr>\n",
       "    <tr>\n",
       "      <th>1</th>\n",
       "      <td>59 ST</td>\n",
       "      <td>04:00:00</td>\n",
       "      <td>7706014</td>\n",
       "      <td>2698808</td>\n",
       "      <td>2022-04-30 04:00:00</td>\n",
       "      <td>A002R05102-00-00</td>\n",
       "      <td>4</td>\n",
       "      <td>4</td>\n",
       "    </tr>\n",
       "    <tr>\n",
       "      <th>2</th>\n",
       "      <td>59 ST</td>\n",
       "      <td>08:00:00</td>\n",
       "      <td>7706017</td>\n",
       "      <td>2698835</td>\n",
       "      <td>2022-04-30 08:00:00</td>\n",
       "      <td>A002R05102-00-00</td>\n",
       "      <td>3</td>\n",
       "      <td>27</td>\n",
       "    </tr>\n",
       "    <tr>\n",
       "      <th>3</th>\n",
       "      <td>59 ST</td>\n",
       "      <td>12:00:00</td>\n",
       "      <td>7706038</td>\n",
       "      <td>2698924</td>\n",
       "      <td>2022-04-30 12:00:00</td>\n",
       "      <td>A002R05102-00-00</td>\n",
       "      <td>21</td>\n",
       "      <td>89</td>\n",
       "    </tr>\n",
       "    <tr>\n",
       "      <th>4</th>\n",
       "      <td>59 ST</td>\n",
       "      <td>16:00:00</td>\n",
       "      <td>7706084</td>\n",
       "      <td>2698963</td>\n",
       "      <td>2022-04-30 16:00:00</td>\n",
       "      <td>A002R05102-00-00</td>\n",
       "      <td>46</td>\n",
       "      <td>39</td>\n",
       "    </tr>\n",
       "    <tr>\n",
       "      <th>...</th>\n",
       "      <td>...</td>\n",
       "      <td>...</td>\n",
       "      <td>...</td>\n",
       "      <td>...</td>\n",
       "      <td>...</td>\n",
       "      <td>...</td>\n",
       "      <td>...</td>\n",
       "      <td>...</td>\n",
       "    </tr>\n",
       "    <tr>\n",
       "      <th>1055975</th>\n",
       "      <td>RIT-ROOSEVELT</td>\n",
       "      <td>05:00:00</td>\n",
       "      <td>0</td>\n",
       "      <td>433</td>\n",
       "      <td>2022-06-03 05:00:00</td>\n",
       "      <td>TRAM2R46900-05-01</td>\n",
       "      <td>0</td>\n",
       "      <td>0</td>\n",
       "    </tr>\n",
       "    <tr>\n",
       "      <th>1055976</th>\n",
       "      <td>RIT-ROOSEVELT</td>\n",
       "      <td>09:00:00</td>\n",
       "      <td>0</td>\n",
       "      <td>433</td>\n",
       "      <td>2022-06-03 09:00:00</td>\n",
       "      <td>TRAM2R46900-05-01</td>\n",
       "      <td>0</td>\n",
       "      <td>0</td>\n",
       "    </tr>\n",
       "    <tr>\n",
       "      <th>1055977</th>\n",
       "      <td>RIT-ROOSEVELT</td>\n",
       "      <td>13:00:00</td>\n",
       "      <td>0</td>\n",
       "      <td>433</td>\n",
       "      <td>2022-06-03 13:00:00</td>\n",
       "      <td>TRAM2R46900-05-01</td>\n",
       "      <td>0</td>\n",
       "      <td>0</td>\n",
       "    </tr>\n",
       "    <tr>\n",
       "      <th>1055978</th>\n",
       "      <td>RIT-ROOSEVELT</td>\n",
       "      <td>17:00:00</td>\n",
       "      <td>0</td>\n",
       "      <td>435</td>\n",
       "      <td>2022-06-03 17:00:00</td>\n",
       "      <td>TRAM2R46900-05-01</td>\n",
       "      <td>0</td>\n",
       "      <td>2</td>\n",
       "    </tr>\n",
       "    <tr>\n",
       "      <th>1055979</th>\n",
       "      <td>RIT-ROOSEVELT</td>\n",
       "      <td>21:00:00</td>\n",
       "      <td>0</td>\n",
       "      <td>435</td>\n",
       "      <td>2022-06-03 21:00:00</td>\n",
       "      <td>TRAM2R46900-05-01</td>\n",
       "      <td>0</td>\n",
       "      <td>0</td>\n",
       "    </tr>\n",
       "  </tbody>\n",
       "</table>\n",
       "<p>1030845 rows × 8 columns</p>\n",
       "</div>"
      ],
      "text/plain": [
       "               STATION      TIME  ENTRIES    EXITS            datetime  \\\n",
       "0                59 ST  00:00:00  7706010  2698804 2022-04-30 00:00:00   \n",
       "1                59 ST  04:00:00  7706014  2698808 2022-04-30 04:00:00   \n",
       "2                59 ST  08:00:00  7706017  2698835 2022-04-30 08:00:00   \n",
       "3                59 ST  12:00:00  7706038  2698924 2022-04-30 12:00:00   \n",
       "4                59 ST  16:00:00  7706084  2698963 2022-04-30 16:00:00   \n",
       "...                ...       ...      ...      ...                 ...   \n",
       "1055975  RIT-ROOSEVELT  05:00:00        0      433 2022-06-03 05:00:00   \n",
       "1055976  RIT-ROOSEVELT  09:00:00        0      433 2022-06-03 09:00:00   \n",
       "1055977  RIT-ROOSEVELT  13:00:00        0      433 2022-06-03 13:00:00   \n",
       "1055978  RIT-ROOSEVELT  17:00:00        0      435 2022-06-03 17:00:00   \n",
       "1055979  RIT-ROOSEVELT  21:00:00        0      435 2022-06-03 21:00:00   \n",
       "\n",
       "                 turnstile  net_entry  net_exits  \n",
       "0         A002R05102-00-00          0          0  \n",
       "1         A002R05102-00-00          4          4  \n",
       "2         A002R05102-00-00          3         27  \n",
       "3         A002R05102-00-00         21         89  \n",
       "4         A002R05102-00-00         46         39  \n",
       "...                    ...        ...        ...  \n",
       "1055975  TRAM2R46900-05-01          0          0  \n",
       "1055976  TRAM2R46900-05-01          0          0  \n",
       "1055977  TRAM2R46900-05-01          0          0  \n",
       "1055978  TRAM2R46900-05-01          0          2  \n",
       "1055979  TRAM2R46900-05-01          0          0  \n",
       "\n",
       "[1030845 rows x 8 columns]"
      ]
     },
     "execution_count": 31,
     "metadata": {},
     "output_type": "execute_result"
    }
   ],
   "source": [
    "dfnew"
   ]
  },
  {
   "cell_type": "code",
   "execution_count": 32,
   "id": "21fd29d0",
   "metadata": {},
   "outputs": [],
   "source": [
    "#these columns are not essential since already calculated the net exit and entry in [12]\n",
    "\n",
    "dfnew.insert(loc = 6, column = \"total\", value = dfnew[\"net_entry\"] + dfnew[\"net_exits\"])"
   ]
  },
  {
   "cell_type": "code",
   "execution_count": 33,
   "id": "6c399631",
   "metadata": {
    "scrolled": true
   },
   "outputs": [
    {
     "data": {
      "text/html": [
       "<div>\n",
       "<style scoped>\n",
       "    .dataframe tbody tr th:only-of-type {\n",
       "        vertical-align: middle;\n",
       "    }\n",
       "\n",
       "    .dataframe tbody tr th {\n",
       "        vertical-align: top;\n",
       "    }\n",
       "\n",
       "    .dataframe thead th {\n",
       "        text-align: right;\n",
       "    }\n",
       "</style>\n",
       "<table border=\"1\" class=\"dataframe\">\n",
       "  <thead>\n",
       "    <tr style=\"text-align: right;\">\n",
       "      <th></th>\n",
       "      <th>STATION</th>\n",
       "      <th>TIME</th>\n",
       "      <th>ENTRIES</th>\n",
       "      <th>EXITS</th>\n",
       "      <th>datetime</th>\n",
       "      <th>turnstile</th>\n",
       "      <th>total</th>\n",
       "      <th>net_entry</th>\n",
       "      <th>net_exits</th>\n",
       "    </tr>\n",
       "  </thead>\n",
       "  <tbody>\n",
       "    <tr>\n",
       "      <th>0</th>\n",
       "      <td>59 ST</td>\n",
       "      <td>00:00:00</td>\n",
       "      <td>7706010</td>\n",
       "      <td>2698804</td>\n",
       "      <td>2022-04-30 00:00:00</td>\n",
       "      <td>A002R05102-00-00</td>\n",
       "      <td>0</td>\n",
       "      <td>0</td>\n",
       "      <td>0</td>\n",
       "    </tr>\n",
       "    <tr>\n",
       "      <th>1</th>\n",
       "      <td>59 ST</td>\n",
       "      <td>04:00:00</td>\n",
       "      <td>7706014</td>\n",
       "      <td>2698808</td>\n",
       "      <td>2022-04-30 04:00:00</td>\n",
       "      <td>A002R05102-00-00</td>\n",
       "      <td>8</td>\n",
       "      <td>4</td>\n",
       "      <td>4</td>\n",
       "    </tr>\n",
       "    <tr>\n",
       "      <th>2</th>\n",
       "      <td>59 ST</td>\n",
       "      <td>08:00:00</td>\n",
       "      <td>7706017</td>\n",
       "      <td>2698835</td>\n",
       "      <td>2022-04-30 08:00:00</td>\n",
       "      <td>A002R05102-00-00</td>\n",
       "      <td>30</td>\n",
       "      <td>3</td>\n",
       "      <td>27</td>\n",
       "    </tr>\n",
       "    <tr>\n",
       "      <th>3</th>\n",
       "      <td>59 ST</td>\n",
       "      <td>12:00:00</td>\n",
       "      <td>7706038</td>\n",
       "      <td>2698924</td>\n",
       "      <td>2022-04-30 12:00:00</td>\n",
       "      <td>A002R05102-00-00</td>\n",
       "      <td>110</td>\n",
       "      <td>21</td>\n",
       "      <td>89</td>\n",
       "    </tr>\n",
       "    <tr>\n",
       "      <th>4</th>\n",
       "      <td>59 ST</td>\n",
       "      <td>16:00:00</td>\n",
       "      <td>7706084</td>\n",
       "      <td>2698963</td>\n",
       "      <td>2022-04-30 16:00:00</td>\n",
       "      <td>A002R05102-00-00</td>\n",
       "      <td>85</td>\n",
       "      <td>46</td>\n",
       "      <td>39</td>\n",
       "    </tr>\n",
       "    <tr>\n",
       "      <th>...</th>\n",
       "      <td>...</td>\n",
       "      <td>...</td>\n",
       "      <td>...</td>\n",
       "      <td>...</td>\n",
       "      <td>...</td>\n",
       "      <td>...</td>\n",
       "      <td>...</td>\n",
       "      <td>...</td>\n",
       "      <td>...</td>\n",
       "    </tr>\n",
       "    <tr>\n",
       "      <th>1055975</th>\n",
       "      <td>RIT-ROOSEVELT</td>\n",
       "      <td>05:00:00</td>\n",
       "      <td>0</td>\n",
       "      <td>433</td>\n",
       "      <td>2022-06-03 05:00:00</td>\n",
       "      <td>TRAM2R46900-05-01</td>\n",
       "      <td>0</td>\n",
       "      <td>0</td>\n",
       "      <td>0</td>\n",
       "    </tr>\n",
       "    <tr>\n",
       "      <th>1055976</th>\n",
       "      <td>RIT-ROOSEVELT</td>\n",
       "      <td>09:00:00</td>\n",
       "      <td>0</td>\n",
       "      <td>433</td>\n",
       "      <td>2022-06-03 09:00:00</td>\n",
       "      <td>TRAM2R46900-05-01</td>\n",
       "      <td>0</td>\n",
       "      <td>0</td>\n",
       "      <td>0</td>\n",
       "    </tr>\n",
       "    <tr>\n",
       "      <th>1055977</th>\n",
       "      <td>RIT-ROOSEVELT</td>\n",
       "      <td>13:00:00</td>\n",
       "      <td>0</td>\n",
       "      <td>433</td>\n",
       "      <td>2022-06-03 13:00:00</td>\n",
       "      <td>TRAM2R46900-05-01</td>\n",
       "      <td>0</td>\n",
       "      <td>0</td>\n",
       "      <td>0</td>\n",
       "    </tr>\n",
       "    <tr>\n",
       "      <th>1055978</th>\n",
       "      <td>RIT-ROOSEVELT</td>\n",
       "      <td>17:00:00</td>\n",
       "      <td>0</td>\n",
       "      <td>435</td>\n",
       "      <td>2022-06-03 17:00:00</td>\n",
       "      <td>TRAM2R46900-05-01</td>\n",
       "      <td>2</td>\n",
       "      <td>0</td>\n",
       "      <td>2</td>\n",
       "    </tr>\n",
       "    <tr>\n",
       "      <th>1055979</th>\n",
       "      <td>RIT-ROOSEVELT</td>\n",
       "      <td>21:00:00</td>\n",
       "      <td>0</td>\n",
       "      <td>435</td>\n",
       "      <td>2022-06-03 21:00:00</td>\n",
       "      <td>TRAM2R46900-05-01</td>\n",
       "      <td>0</td>\n",
       "      <td>0</td>\n",
       "      <td>0</td>\n",
       "    </tr>\n",
       "  </tbody>\n",
       "</table>\n",
       "<p>1030845 rows × 9 columns</p>\n",
       "</div>"
      ],
      "text/plain": [
       "               STATION      TIME  ENTRIES    EXITS            datetime  \\\n",
       "0                59 ST  00:00:00  7706010  2698804 2022-04-30 00:00:00   \n",
       "1                59 ST  04:00:00  7706014  2698808 2022-04-30 04:00:00   \n",
       "2                59 ST  08:00:00  7706017  2698835 2022-04-30 08:00:00   \n",
       "3                59 ST  12:00:00  7706038  2698924 2022-04-30 12:00:00   \n",
       "4                59 ST  16:00:00  7706084  2698963 2022-04-30 16:00:00   \n",
       "...                ...       ...      ...      ...                 ...   \n",
       "1055975  RIT-ROOSEVELT  05:00:00        0      433 2022-06-03 05:00:00   \n",
       "1055976  RIT-ROOSEVELT  09:00:00        0      433 2022-06-03 09:00:00   \n",
       "1055977  RIT-ROOSEVELT  13:00:00        0      433 2022-06-03 13:00:00   \n",
       "1055978  RIT-ROOSEVELT  17:00:00        0      435 2022-06-03 17:00:00   \n",
       "1055979  RIT-ROOSEVELT  21:00:00        0      435 2022-06-03 21:00:00   \n",
       "\n",
       "                 turnstile  total  net_entry  net_exits  \n",
       "0         A002R05102-00-00      0          0          0  \n",
       "1         A002R05102-00-00      8          4          4  \n",
       "2         A002R05102-00-00     30          3         27  \n",
       "3         A002R05102-00-00    110         21         89  \n",
       "4         A002R05102-00-00     85         46         39  \n",
       "...                    ...    ...        ...        ...  \n",
       "1055975  TRAM2R46900-05-01      0          0          0  \n",
       "1055976  TRAM2R46900-05-01      0          0          0  \n",
       "1055977  TRAM2R46900-05-01      0          0          0  \n",
       "1055978  TRAM2R46900-05-01      2          0          2  \n",
       "1055979  TRAM2R46900-05-01      0          0          0  \n",
       "\n",
       "[1030845 rows x 9 columns]"
      ]
     },
     "execution_count": 33,
     "metadata": {},
     "output_type": "execute_result"
    }
   ],
   "source": [
    "#Here is the final version of our dataframe\n",
    "\n",
    "dfnew"
   ]
  },
  {
   "cell_type": "code",
   "execution_count": 34,
   "id": "7b35ea07",
   "metadata": {},
   "outputs": [
    {
     "name": "stdout",
     "output_type": "stream",
     "text": [
      "<class 'pandas.core.frame.DataFrame'>\n",
      "Int64Index: 1030845 entries, 0 to 1055979\n",
      "Data columns (total 9 columns):\n",
      " #   Column     Non-Null Count    Dtype         \n",
      "---  ------     --------------    -----         \n",
      " 0   STATION    1030845 non-null  object        \n",
      " 1   TIME       1030845 non-null  object        \n",
      " 2   ENTRIES    1030845 non-null  int64         \n",
      " 3   EXITS      1030845 non-null  int64         \n",
      " 4   datetime   1030845 non-null  datetime64[ns]\n",
      " 5   turnstile  1030845 non-null  object        \n",
      " 6   total      1030845 non-null  int64         \n",
      " 7   net_entry  1030845 non-null  int64         \n",
      " 8   net_exits  1030845 non-null  int64         \n",
      "dtypes: datetime64[ns](1), int64(5), object(3)\n",
      "memory usage: 78.6+ MB\n"
     ]
    }
   ],
   "source": [
    "dfnew.info()"
   ]
  },
  {
   "cell_type": "markdown",
   "id": "59687667",
   "metadata": {},
   "source": [
    "dfnew.to_csv(\"New_York.csv\")"
   ]
  },
  {
   "cell_type": "code",
   "execution_count": 38,
   "id": "f41abfe5",
   "metadata": {},
   "outputs": [],
   "source": [
    "dfnegative = dfnew[dfnew[\"net_entry\"] < 0]"
   ]
  },
  {
   "cell_type": "code",
   "execution_count": 45,
   "id": "e010b944",
   "metadata": {},
   "outputs": [
    {
     "data": {
      "text/plain": [
       "{'whiskers': [<matplotlib.lines.Line2D at 0x1d98e646a30>,\n",
       "  <matplotlib.lines.Line2D at 0x1d98e646dc0>],\n",
       " 'caps': [<matplotlib.lines.Line2D at 0x1d98e651190>,\n",
       "  <matplotlib.lines.Line2D at 0x1d98e651520>],\n",
       " 'boxes': [<matplotlib.lines.Line2D at 0x1d98e6466a0>],\n",
       " 'medians': [<matplotlib.lines.Line2D at 0x1d98e6518b0>],\n",
       " 'fliers': [<matplotlib.lines.Line2D at 0x1d98e651c70>],\n",
       " 'means': []}"
      ]
     },
     "execution_count": 45,
     "metadata": {},
     "output_type": "execute_result"
    },
    {
     "data": {
      "image/png": "[encoded data removed]",
      "text/plain": [
       "<Figure size 432x288 with 1 Axes>"
      ]
     },
     "metadata": {
      "needs_background": "light"
     },
     "output_type": "display_data"
    }
   ],
   "source": [
    "plt.boxplot(dfnegative.net_entry.abs())"
   ]
  },
  {
   "cell_type": "code",
   "execution_count": 44,
   "id": "c00aafa0",
   "metadata": {},
   "outputs": [],
   "source": [
    "dfpositive = dfnew[dfnew[\"net_entry\"] > 0]"
   ]
  },
  {
   "cell_type": "code",
   "execution_count": 41,
   "id": "877829bb",
   "metadata": {},
   "outputs": [
    {
     "data": {
      "text/plain": [
       "{'whiskers': [<matplotlib.lines.Line2D at 0x1d98e5b13a0>,\n",
       "  <matplotlib.lines.Line2D at 0x1d98e5b1730>],\n",
       " 'caps': [<matplotlib.lines.Line2D at 0x1d98e5b1ac0>,\n",
       "  <matplotlib.lines.Line2D at 0x1d98e5b1e50>],\n",
       " 'boxes': [<matplotlib.lines.Line2D at 0x1d98e5a6fa0>],\n",
       " 'medians': [<matplotlib.lines.Line2D at 0x1d98e5ba220>],\n",
       " 'fliers': [<matplotlib.lines.Line2D at 0x1d98e5ba5b0>],\n",
       " 'means': []}"
      ]
     },
     "execution_count": 41,
     "metadata": {},
     "output_type": "execute_result"
    },
    {
     "data": {
      "image/png": "[encoded data removed]",
      "text/plain": [
       "<Figure size 432x288 with 1 Axes>"
      ]
     },
     "metadata": {
      "needs_background": "light"
     },
     "output_type": "display_data"
    }
   ],
   "source": [
    "plt.boxplot(dfpositive.net_entry)"
   ]
  },
  {
   "cell_type": "code",
   "execution_count": 46,
   "id": "9ff8235e",
   "metadata": {},
   "outputs": [
    {
     "data": {
      "text/html": [
       "<div>\n",
       "<style scoped>\n",
       "    .dataframe tbody tr th:only-of-type {\n",
       "        vertical-align: middle;\n",
       "    }\n",
       "\n",
       "    .dataframe tbody tr th {\n",
       "        vertical-align: top;\n",
       "    }\n",
       "\n",
       "    .dataframe thead th {\n",
       "        text-align: right;\n",
       "    }\n",
       "</style>\n",
       "<table border=\"1\" class=\"dataframe\">\n",
       "  <thead>\n",
       "    <tr style=\"text-align: right;\">\n",
       "      <th></th>\n",
       "      <th>ENTRIES</th>\n",
       "      <th>EXITS</th>\n",
       "      <th>total</th>\n",
       "      <th>net_entry</th>\n",
       "      <th>net_exits</th>\n",
       "    </tr>\n",
       "  </thead>\n",
       "  <tbody>\n",
       "    <tr>\n",
       "      <th>count</th>\n",
       "      <td>9.165000e+03</td>\n",
       "      <td>9.165000e+03</td>\n",
       "      <td>9165.000000</td>\n",
       "      <td>9165.000000</td>\n",
       "      <td>9165.000000</td>\n",
       "    </tr>\n",
       "    <tr>\n",
       "      <th>mean</th>\n",
       "      <td>1.224439e+09</td>\n",
       "      <td>9.680600e+08</td>\n",
       "      <td>-50.209711</td>\n",
       "      <td>-80.784724</td>\n",
       "      <td>30.575014</td>\n",
       "    </tr>\n",
       "    <tr>\n",
       "      <th>std</th>\n",
       "      <td>6.287466e+08</td>\n",
       "      <td>6.507293e+08</td>\n",
       "      <td>141.868602</td>\n",
       "      <td>75.665051</td>\n",
       "      <td>130.395211</td>\n",
       "    </tr>\n",
       "    <tr>\n",
       "      <th>min</th>\n",
       "      <td>1.000000e+00</td>\n",
       "      <td>0.000000e+00</td>\n",
       "      <td>-611.000000</td>\n",
       "      <td>-280.000000</td>\n",
       "      <td>-359.000000</td>\n",
       "    </tr>\n",
       "    <tr>\n",
       "      <th>25%</th>\n",
       "      <td>6.892699e+08</td>\n",
       "      <td>4.087235e+08</td>\n",
       "      <td>-104.000000</td>\n",
       "      <td>-131.000000</td>\n",
       "      <td>-21.000000</td>\n",
       "    </tr>\n",
       "    <tr>\n",
       "      <th>50%</th>\n",
       "      <td>1.254551e+09</td>\n",
       "      <td>9.229992e+08</td>\n",
       "      <td>-20.000000</td>\n",
       "      <td>-57.000000</td>\n",
       "      <td>17.000000</td>\n",
       "    </tr>\n",
       "    <tr>\n",
       "      <th>75%</th>\n",
       "      <td>1.757704e+09</td>\n",
       "      <td>1.596303e+09</td>\n",
       "      <td>13.000000</td>\n",
       "      <td>-15.000000</td>\n",
       "      <td>87.000000</td>\n",
       "    </tr>\n",
       "    <tr>\n",
       "      <th>max</th>\n",
       "      <td>2.147296e+09</td>\n",
       "      <td>2.122326e+09</td>\n",
       "      <td>537.000000</td>\n",
       "      <td>-1.000000</td>\n",
       "      <td>602.000000</td>\n",
       "    </tr>\n",
       "  </tbody>\n",
       "</table>\n",
       "</div>"
      ],
      "text/plain": [
       "            ENTRIES         EXITS        total    net_entry    net_exits\n",
       "count  9.165000e+03  9.165000e+03  9165.000000  9165.000000  9165.000000\n",
       "mean   1.224439e+09  9.680600e+08   -50.209711   -80.784724    30.575014\n",
       "std    6.287466e+08  6.507293e+08   141.868602    75.665051   130.395211\n",
       "min    1.000000e+00  0.000000e+00  -611.000000  -280.000000  -359.000000\n",
       "25%    6.892699e+08  4.087235e+08  -104.000000  -131.000000   -21.000000\n",
       "50%    1.254551e+09  9.229992e+08   -20.000000   -57.000000    17.000000\n",
       "75%    1.757704e+09  1.596303e+09    13.000000   -15.000000    87.000000\n",
       "max    2.147296e+09  2.122326e+09   537.000000    -1.000000   602.000000"
      ]
     },
     "execution_count": 46,
     "metadata": {},
     "output_type": "execute_result"
    }
   ],
   "source": [
    "dfnegative.describe()"
   ]
  },
  {
   "cell_type": "code",
   "execution_count": 47,
   "id": "769b519c",
   "metadata": {},
   "outputs": [
    {
     "data": {
      "text/html": [
       "<div>\n",
       "<style scoped>\n",
       "    .dataframe tbody tr th:only-of-type {\n",
       "        vertical-align: middle;\n",
       "    }\n",
       "\n",
       "    .dataframe tbody tr th {\n",
       "        vertical-align: top;\n",
       "    }\n",
       "\n",
       "    .dataframe thead th {\n",
       "        text-align: right;\n",
       "    }\n",
       "</style>\n",
       "<table border=\"1\" class=\"dataframe\">\n",
       "  <thead>\n",
       "    <tr style=\"text-align: right;\">\n",
       "      <th></th>\n",
       "      <th>ENTRIES</th>\n",
       "      <th>EXITS</th>\n",
       "      <th>total</th>\n",
       "      <th>net_entry</th>\n",
       "      <th>net_exits</th>\n",
       "    </tr>\n",
       "  </thead>\n",
       "  <tbody>\n",
       "    <tr>\n",
       "      <th>count</th>\n",
       "      <td>8.636330e+05</td>\n",
       "      <td>8.636330e+05</td>\n",
       "      <td>863633.000000</td>\n",
       "      <td>863633.000000</td>\n",
       "      <td>863633.000000</td>\n",
       "    </tr>\n",
       "    <tr>\n",
       "      <th>mean</th>\n",
       "      <td>3.201731e+07</td>\n",
       "      <td>2.563352e+07</td>\n",
       "      <td>169.103288</td>\n",
       "      <td>75.684525</td>\n",
       "      <td>93.418764</td>\n",
       "    </tr>\n",
       "    <tr>\n",
       "      <th>std</th>\n",
       "      <td>1.839730e+08</td>\n",
       "      <td>1.621232e+08</td>\n",
       "      <td>167.920780</td>\n",
       "      <td>89.168884</td>\n",
       "      <td>113.609397</td>\n",
       "    </tr>\n",
       "    <tr>\n",
       "      <th>min</th>\n",
       "      <td>1.000000e+00</td>\n",
       "      <td>0.000000e+00</td>\n",
       "      <td>-333.000000</td>\n",
       "      <td>1.000000</td>\n",
       "      <td>-359.000000</td>\n",
       "    </tr>\n",
       "    <tr>\n",
       "      <th>25%</th>\n",
       "      <td>3.502350e+05</td>\n",
       "      <td>2.209830e+05</td>\n",
       "      <td>37.000000</td>\n",
       "      <td>11.000000</td>\n",
       "      <td>15.000000</td>\n",
       "    </tr>\n",
       "    <tr>\n",
       "      <th>50%</th>\n",
       "      <td>1.721167e+06</td>\n",
       "      <td>1.093646e+06</td>\n",
       "      <td>115.000000</td>\n",
       "      <td>42.000000</td>\n",
       "      <td>50.000000</td>\n",
       "    </tr>\n",
       "    <tr>\n",
       "      <th>75%</th>\n",
       "      <td>6.293835e+06</td>\n",
       "      <td>4.262044e+06</td>\n",
       "      <td>251.000000</td>\n",
       "      <td>107.000000</td>\n",
       "      <td>129.000000</td>\n",
       "    </tr>\n",
       "    <tr>\n",
       "      <th>max</th>\n",
       "      <td>2.116209e+09</td>\n",
       "      <td>2.039322e+09</td>\n",
       "      <td>1082.000000</td>\n",
       "      <td>478.000000</td>\n",
       "      <td>615.000000</td>\n",
       "    </tr>\n",
       "  </tbody>\n",
       "</table>\n",
       "</div>"
      ],
      "text/plain": [
       "            ENTRIES         EXITS          total      net_entry      net_exits\n",
       "count  8.636330e+05  8.636330e+05  863633.000000  863633.000000  863633.000000\n",
       "mean   3.201731e+07  2.563352e+07     169.103288      75.684525      93.418764\n",
       "std    1.839730e+08  1.621232e+08     167.920780      89.168884     113.609397\n",
       "min    1.000000e+00  0.000000e+00    -333.000000       1.000000    -359.000000\n",
       "25%    3.502350e+05  2.209830e+05      37.000000      11.000000      15.000000\n",
       "50%    1.721167e+06  1.093646e+06     115.000000      42.000000      50.000000\n",
       "75%    6.293835e+06  4.262044e+06     251.000000     107.000000     129.000000\n",
       "max    2.116209e+09  2.039322e+09    1082.000000     478.000000     615.000000"
      ]
     },
     "execution_count": 47,
     "metadata": {},
     "output_type": "execute_result"
    }
   ],
   "source": [
    "dfpositive.describe()"
   ]
  },
  {
   "cell_type": "code",
   "execution_count": null,
   "id": "4d466d93",
   "metadata": {},
   "outputs": [],
   "source": []
  }
 ],
 "metadata": {
  "kernelspec": {
   "display_name": "Python 3 (ipykernel)",
   "language": "python",
   "name": "python3"
  },
  "language_info": {
   "codemirror_mode": {
    "name": "ipython",
    "version": 3
   },
   "file_extension": ".py",
   "mimetype": "text/x-python",
   "name": "python",
   "nbconvert_exporter": "python",
   "pygments_lexer": "ipython3",
   "version": "3.9.7"
  }
 },
 "nbformat": 4,
 "nbformat_minor": 5
}
